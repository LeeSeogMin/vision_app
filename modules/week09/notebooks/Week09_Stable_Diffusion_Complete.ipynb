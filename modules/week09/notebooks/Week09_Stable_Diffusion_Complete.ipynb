{
  "nbformat": 4,
  "nbformat_minor": 0,
  "metadata": {
    "colab": {
      "provenance": [],
      "gpuType": "T4"
    },
    "kernelspec": {
      "name": "python3",
      "display_name": "Python 3"
    },
    "language_info": {
      "name": "python"
    },
    "accelerator": "GPU"
  },
  "cells": [
    {
      "cell_type": "markdown",
      "source": [
        "# Week 9: Stable Diffusion 종합 실습\n",
        "\n",
        "이 노트북은 Stable Diffusion을 사용한 Text-to-Image 생성의 전체 실습을 포함합니다.\n",
        "\n",
        "**실습 내용**:\n",
        "1. 기본 Diffusion 모델\n",
        "2. 프롬프트 엔지니어링\n",
        "3. 스케줄러 비교\n",
        "4. ControlNet\n",
        "\n",
        "**권장 환경**: Google Colab (GPU: T4)\n",
        "\n",
        "---"
      ],
      "metadata": {
        "id": "intro"
      }
    },
    {
      "cell_type": "markdown",
      "source": [
        "## 🔧 1. 환경 설정"
      ],
      "metadata": {
        "id": "setup"
      }
    },
    {
      "cell_type": "code",
      "source": [
        "# 패키지 설치\n",
        "!pip install -q diffusers transformers accelerate torch matplotlib opencv-python"
      ],
      "metadata": {
        "id": "install"
      },
      "execution_count": null,
      "outputs": []
    },
    {
      "cell_type": "code",
      "source": [
        "# 라이브러리 임포트\n",
        "import torch\n",
        "from diffusers import (\n",
        "    StableDiffusionPipeline,\n",
        "    DDIMScheduler,\n",
        "    DPMSolverMultistepScheduler,\n",
        "    EulerDiscreteScheduler,\n",
        "    EulerAncestralDiscreteScheduler,\n",
        "    StableDiffusionControlNetPipeline,\n",
        "    ControlNetModel\n",
        ")\n",
        "from PIL import Image\n",
        "import matplotlib.pyplot as plt\n",
        "import numpy as np\n",
        "import cv2\n",
        "import time\n",
        "\n",
        "# GPU 확인\n",
        "device = \"cuda\" if torch.cuda.is_available() else \"cpu\"\n",
        "print(f\"🚀 사용 디바이스: {device}\")\n",
        "if torch.cuda.is_available():\n",
        "    print(f\"📊 GPU: {torch.cuda.get_device_name(0)}\")\n",
        "    print(f\"💾 VRAM: {torch.cuda.get_device_properties(0).total_memory / 1024**3:.2f} GB\")"
      ],
      "metadata": {
        "id": "imports"
      },
      "execution_count": null,
      "outputs": []
    },
    {
      "cell_type": "markdown",
      "source": [
        "## 🎨 2. 기본 이미지 생성"
      ],
      "metadata": {
        "id": "basic"
      }
    },
    {
      "cell_type": "code",
      "source": [
        "# 모델 로드\n",
        "model_id = \"runwayml/stable-diffusion-v1-5\"\n",
        "pipe = StableDiffusionPipeline.from_pretrained(\n",
        "    model_id,\n",
        "    torch_dtype=torch.float16\n",
        ")\n",
        "pipe = pipe.to(device)\n",
        "\n",
        "print(\"✅ 모델 로드 완료!\")"
      ],
      "metadata": {
        "id": "load_model"
      },
      "execution_count": null,
      "outputs": []
    },
    {
      "cell_type": "code",
      "source": [
        "# 기본 이미지 생성\n",
        "prompt = \"A beautiful sunset over mountains, digital art\"\n",
        "negative_prompt = \"low quality, blurry, ugly\"\n",
        "\n",
        "generator = torch.Generator(device).manual_seed(42)\n",
        "\n",
        "image = pipe(\n",
        "    prompt=prompt,\n",
        "    negative_prompt=negative_prompt,\n",
        "    num_inference_steps=25,\n",
        "    guidance_scale=7.5,\n",
        "    generator=generator,\n",
        "    height=512,\n",
        "    width=512\n",
        ").images[0]\n",
        "\n",
        "plt.figure(figsize=(8, 8))\n",
        "plt.imshow(image)\n",
        "plt.title(\"기본 생성 결과\")\n",
        "plt.axis('off')\n",
        "plt.show()"
      ],
      "metadata": {
        "id": "basic_gen"
      },
      "execution_count": null,
      "outputs": []
    },
    {
      "cell_type": "markdown",
      "source": [
        "## ✍️ 3. 프롬프트 엔지니어링"
      ],
      "metadata": {
        "id": "prompt_eng"
      }
    },
    {
      "cell_type": "code",
      "source": [
        "# 프롬프트 템플릿 정의\n",
        "prompts = {\n",
        "    \"realistic\": '''\n",
        "        Portrait of a wise old wizard,\n",
        "        cinematic photography,\n",
        "        dramatic lighting with rim light,\n",
        "        close-up shot,\n",
        "        ultra-detailed, 8k, sharp focus,\n",
        "        professional photography\n",
        "    ''',\n",
        "\n",
        "    \"artistic\": '''\n",
        "        Portrait of a wise old wizard,\n",
        "        oil painting style,\n",
        "        soft warm lighting,\n",
        "        classical composition,\n",
        "        highly detailed brushwork,\n",
        "        masterpiece\n",
        "    ''',\n",
        "\n",
        "    \"fantasy\": '''\n",
        "        Portrait of a wise old wizard,\n",
        "        fantasy art style,\n",
        "        magical glowing effects,\n",
        "        mystical atmosphere,\n",
        "        trending on artstation,\n",
        "        digital painting\n",
        "    '''\n",
        "}\n",
        "\n",
        "negative_prompt = '''\n",
        "    low quality, blurry, artifacts,\n",
        "    deformed hands, bad anatomy,\n",
        "    poorly drawn face, ugly,\n",
        "    watermark, text\n",
        "'''"
      ],
      "metadata": {
        "id": "prompt_templates"
      },
      "execution_count": null,
      "outputs": []
    },
    {
      "cell_type": "code",
      "source": [
        "# 이미지 생성 함수\n",
        "def generate_image(prompt, negative, seed=42):\n",
        "    generator = torch.Generator(device).manual_seed(seed)\n",
        "\n",
        "    image = pipe(\n",
        "        prompt=prompt,\n",
        "        negative_prompt=negative,\n",
        "        num_inference_steps=30,\n",
        "        guidance_scale=7.5,\n",
        "        generator=generator,\n",
        "        height=512,\n",
        "        width=512\n",
        "    ).images[0]\n",
        "\n",
        "    return image"
      ],
      "metadata": {
        "id": "gen_func"
      },
      "execution_count": null,
      "outputs": []
    },
    {
      "cell_type": "code",
      "source": [
        "# 여러 스타일 비교\n",
        "print(\"🎨 스타일별 이미지 생성 중...\")\n",
        "\n",
        "fig, axes = plt.subplots(1, 3, figsize=(15, 5))\n",
        "\n",
        "for idx, (style, prompt) in enumerate(prompts.items()):\n",
        "    print(f\"  - {style}...\")\n",
        "    image = generate_image(prompt, negative_prompt)\n",
        "\n",
        "    axes[idx].imshow(image)\n",
        "    axes[idx].set_title(f\"{style.upper()}\", fontsize=14)\n",
        "    axes[idx].axis('off')\n",
        "\n",
        "plt.tight_layout()\n",
        "plt.savefig('prompt_comparison.png', dpi=300, bbox_inches='tight')\n",
        "plt.show()\n",
        "\n",
        "print(\"\\n✅ 스타일 비교 완료!\")"
      ],
      "metadata": {
        "id": "style_comparison"
      },
      "execution_count": null,
      "outputs": []
    },
    {
      "cell_type": "code",
      "source": [
        "# 네거티브 프롬프트 효과 비교\n",
        "print(\"🔍 네거티브 프롬프트 효과 분석 중...\")\n",
        "\n",
        "fig, axes = plt.subplots(1, 2, figsize=(10, 5))\n",
        "\n",
        "# 네거티브 없음\n",
        "image_no_neg = generate_image(prompts[\"realistic\"], \"\", seed=42)\n",
        "axes[0].imshow(image_no_neg)\n",
        "axes[0].set_title(\"네거티브 프롬프트 없음\")\n",
        "axes[0].axis('off')\n",
        "\n",
        "# 네거티브 있음\n",
        "image_with_neg = generate_image(prompts[\"realistic\"], negative_prompt, seed=42)\n",
        "axes[1].imshow(image_with_neg)\n",
        "axes[1].set_title(\"네거티브 프롬프트 적용\")\n",
        "axes[1].axis('off')\n",
        "\n",
        "plt.tight_layout()\n",
        "plt.savefig('negative_prompt_comparison.png', dpi=300, bbox_inches='tight')\n",
        "plt.show()\n",
        "\n",
        "print(\"\\n✅ 네거티브 프롬프트 비교 완료!\")"
      ],
      "metadata": {
        "id": "negative_comparison"
      },
      "execution_count": null,
      "outputs": []
    },
    {
      "cell_type": "markdown",
      "source": [
        "## ⏱️ 4. 스케줄러 비교"
      ],
      "metadata": {
        "id": "scheduler"
      }
    },
    {
      "cell_type": "code",
      "source": [
        "# 스케줄러 딕셔너리\n",
        "schedulers = {\n",
        "    'DDIM': DDIMScheduler.from_config(pipe.scheduler.config),\n",
        "    'DPM-Solver++': DPMSolverMultistepScheduler.from_config(pipe.scheduler.config),\n",
        "    'Euler': EulerDiscreteScheduler.from_config(pipe.scheduler.config),\n",
        "    'Euler A': EulerAncestralDiscreteScheduler.from_config(pipe.scheduler.config)\n",
        "}\n",
        "\n",
        "# 테스트 프롬프트\n",
        "test_prompt = '''\n",
        "A serene mountain landscape at sunset,\n",
        "golden hour lighting,\n",
        "photorealistic style,\n",
        "ultra-detailed, 8k resolution\n",
        "'''\n",
        "\n",
        "test_negative = '''\n",
        "low quality, blurry, artifacts,\n",
        "distorted, ugly\n",
        "'''"
      ],
      "metadata": {
        "id": "scheduler_setup"
      },
      "execution_count": null,
      "outputs": []
    },
    {
      "cell_type": "code",
      "source": [
        "# 스케줄러별 생성 함수\n",
        "def generate_with_scheduler(scheduler_name, scheduler, steps=25):\n",
        "    pipe.scheduler = scheduler\n",
        "    generator = torch.Generator(device).manual_seed(42)\n",
        "\n",
        "    start_time = time.time()\n",
        "\n",
        "    image = pipe(\n",
        "        prompt=test_prompt,\n",
        "        negative_prompt=test_negative,\n",
        "        num_inference_steps=steps,\n",
        "        guidance_scale=7.5,\n",
        "        generator=generator,\n",
        "        height=512,\n",
        "        width=512\n",
        "    ).images[0]\n",
        "\n",
        "    elapsed_time = time.time() - start_time\n",
        "\n",
        "    return image, elapsed_time"
      ],
      "metadata": {
        "id": "scheduler_func"
      },
      "execution_count": null,
      "outputs": []
    },
    {
      "cell_type": "code",
      "source": [
        "# 스케줄러 비교 실험\n",
        "print(\"⏱️ 스케줄러 비교 실험 시작...\")\n",
        "print(\"=\" * 50)\n",
        "\n",
        "results = {}\n",
        "fig, axes = plt.subplots(2, 2, figsize=(12, 12))\n",
        "axes = axes.flatten()\n",
        "\n",
        "for idx, (name, scheduler) in enumerate(schedulers.items()):\n",
        "    print(f\"\\n{idx+1}. {name} 생성 중...\")\n",
        "\n",
        "    image, elapsed = generate_with_scheduler(name, scheduler)\n",
        "    results[name] = {'image': image, 'time': elapsed}\n",
        "\n",
        "    # 시각화\n",
        "    axes[idx].imshow(image)\n",
        "    axes[idx].set_title(f\"{name}\\n생성 시간: {elapsed:.2f}초\", fontsize=12)\n",
        "    axes[idx].axis('off')\n",
        "\n",
        "    print(f\"  ✅ {name}: {elapsed:.2f}초\")\n",
        "\n",
        "plt.tight_layout()\n",
        "plt.savefig('scheduler_comparison.png', dpi=300, bbox_inches='tight')\n",
        "plt.show()\n",
        "\n",
        "print(\"\\n\" + \"=\" * 50)\n",
        "print(\"✅ 스케줄러 비교 완료!\")\n",
        "\n",
        "# 결과 요약\n",
        "print(\"\\n📊 결과 요약:\")\n",
        "for name, result in results.items():\n",
        "    print(f\"  - {name:15s}: {result['time']:.2f}초\")"
      ],
      "metadata": {
        "id": "scheduler_comparison"
      },
      "execution_count": null,
      "outputs": []
    },
    {
      "cell_type": "markdown",
      "source": [
        "## 🧩 5. ControlNet (Canny Edge)"
      ],
      "metadata": {
        "id": "controlnet"
      }
    },
    {
      "cell_type": "code",
      "source": [
        "# ControlNet 모델 로드\n",
        "print(\"🔧 ControlNet 모델 로딩 중...\")\n",
        "\n",
        "controlnet = ControlNetModel.from_pretrained(\n",
        "    \"lllyasviel/sd-controlnet-canny\",\n",
        "    torch_dtype=torch.float16\n",
        ")\n",
        "\n",
        "cn_pipe = StableDiffusionControlNetPipeline.from_pretrained(\n",
        "    model_id,\n",
        "    controlnet=controlnet,\n",
        "    torch_dtype=torch.float16\n",
        ")\n",
        "cn_pipe = cn_pipe.to(device)\n",
        "\n",
        "print(\"✅ ControlNet 로드 완료!\")"
      ],
      "metadata": {
        "id": "controlnet_load"
      },
      "execution_count": null,
      "outputs": []
    },
    {
      "cell_type": "code",
      "source": [
        "# Canny edge 추출 함수\n",
        "def get_canny_edge(image, low_threshold=100, high_threshold=200):\n",
        "    image_np = np.array(image)\n",
        "    if len(image_np.shape) == 3:\n",
        "        image_np = cv2.cvtColor(image_np, cv2.COLOR_RGB2GRAY)\n",
        "\n",
        "    edges = cv2.Canny(image_np, low_threshold, high_threshold)\n",
        "    edges = cv2.cvtColor(edges, cv2.COLOR_GRAY2RGB)\n",
        "\n",
        "    return Image.fromarray(edges)"
      ],
      "metadata": {
        "id": "canny_func"
      },
      "execution_count": null,
      "outputs": []
    },
    {
      "cell_type": "code",
      "source": [
        "# 샘플 이미지 로드 및 처리\n",
        "from urllib.request import urlopen\n",
        "\n",
        "print(\"📥 샘플 이미지 다운로드 중...\")\n",
        "url = \"https://huggingface.co/lllyasviel/sd-controlnet-canny/resolve/main/images/bird.png\"\n",
        "image = Image.open(urlopen(url))\n",
        "\n",
        "# Canny edge 추출\n",
        "canny_image = get_canny_edge(image)\n",
        "\n",
        "print(\"✅ 이미지 준비 완료!\")"
      ],
      "metadata": {
        "id": "sample_image"
      },
      "execution_count": null,
      "outputs": []
    },
    {
      "cell_type": "code",
      "source": [
        "# ControlNet으로 이미지 생성\n",
        "print(\"🎨 ControlNet 이미지 생성 중...\")\n",
        "\n",
        "cn_prompt = \"a beautiful bird, digital art style, colorful, detailed\"\n",
        "cn_negative = \"low quality, blurry, ugly\"\n",
        "\n",
        "cn_output = cn_pipe(\n",
        "    prompt=cn_prompt,\n",
        "    negative_prompt=cn_negative,\n",
        "    image=canny_image,\n",
        "    num_inference_steps=30,\n",
        "    guidance_scale=7.5,\n",
        "    controlnet_conditioning_scale=1.0\n",
        ").images[0]\n",
        "\n",
        "# 결과 시각화\n",
        "fig, axes = plt.subplots(1, 3, figsize=(15, 5))\n",
        "\n",
        "axes[0].imshow(image)\n",
        "axes[0].set_title(\"Original\")\n",
        "axes[0].axis('off')\n",
        "\n",
        "axes[1].imshow(canny_image)\n",
        "axes[1].set_title(\"Canny Edge\")\n",
        "axes[1].axis('off')\n",
        "\n",
        "axes[2].imshow(cn_output)\n",
        "axes[2].set_title(\"ControlNet Output\")\n",
        "axes[2].axis('off')\n",
        "\n",
        "plt.tight_layout()\n",
        "plt.savefig('controlnet_result.png', dpi=300)\n",
        "plt.show()\n",
        "\n",
        "print(\"\\n✅ ControlNet 생성 완료!\")"
      ],
      "metadata": {
        "id": "controlnet_gen"
      },
      "execution_count": null,
      "outputs": []
    },
    {
      "cell_type": "markdown",
      "source": [
        "## 📊 6. 종합 결과"
      ],
      "metadata": {
        "id": "summary"
      }
    },
    {
      "cell_type": "code",
      "source": [
        "print(\"=\"*50)\n",
        "print(\"✅ Week 9 실습 완료!\")\n",
        "print(\"=\"*50)\n",
        "print(\"\\n📁 생성된 파일:\")\n",
        "print(\"  - prompt_comparison.png\")\n",
        "print(\"  - negative_prompt_comparison.png\")\n",
        "print(\"  - scheduler_comparison.png\")\n",
        "print(\"  - controlnet_result.png\")\n",
        "print(\"\\n💡 다음 단계:\")\n",
        "print(\"  1. 다양한 프롬프트 실험\")\n",
        "print(\"  2. 파라미터 최적화\")\n",
        "print(\"  3. LoRA 모델 적용\")\n",
        "print(\"  4. ComfyUI 워크플로우 구성\")"
      ],
      "metadata": {
        "id": "summary_print"
      },
      "execution_count": null,
      "outputs": []
    }
  ]
}
